{
 "cells": [
  {
   "cell_type": "code",
   "execution_count": null,
   "id": "345f5a63",
   "metadata": {},
   "outputs": [],
   "source": [
    " # Dependencies\n",
    "from bs4 import BeautifulSoup as bs\n",
    "from splinter import Browser\n",
    "from webdriver_manager.chrome import ChromeDriverManager\n",
    "import pandas as pd\n",
    "import time"
   ]
  },
  {
   "cell_type": "code",
   "execution_count": null,
   "id": "3aef0725",
   "metadata": {},
   "outputs": [],
   "source": [
    " # Setup splinter\n",
    "executable_path = {'executable_path': ChromeDriverManager().install()}\n",
    "browser = Browser('chrome', **executable_path, headless=False)"
   ]
  },
  {
   "cell_type": "markdown",
   "id": "9951356d",
   "metadata": {},
   "source": [
    "NASA Mars News\n",
    "\n",
    "Scrape the Mars News Site and collect the latest News Title and Paragraph Text. Assign the text to variables that you can reference later."
   ]
  },
  {
   "cell_type": "code",
   "execution_count": null,
   "id": "2de9cb60",
   "metadata": {},
   "outputs": [],
   "source": [
    " # URL of page to be scraped\n",
    "url = 'https://redplanetscience.com/'"
   ]
  },
  {
   "cell_type": "code",
   "execution_count": null,
   "id": "71fe5c8a",
   "metadata": {},
   "outputs": [],
   "source": [
    "# browser open webpage\n",
    "browser.visit(url)"
   ]
  },
  {
   "cell_type": "code",
   "execution_count": null,
   "id": "abc89ccf",
   "metadata": {},
   "outputs": [],
   "source": [
    "# Wait until webpage is loaded\n",
    "browser.is_element_present_by_css('div.list_text', wait_time=1)"
   ]
  },
  {
   "cell_type": "code",
   "execution_count": null,
   "id": "2fcec9b4",
   "metadata": {},
   "outputs": [],
   "source": [
    "# HTML object\n",
    "html = browser.html"
   ]
  },
  {
   "cell_type": "code",
   "execution_count": null,
   "id": "809fd139",
   "metadata": {},
   "outputs": [],
   "source": [
    "# Parse HTML with Beautiful Soup\n",
    "soup = bs(html, 'html.parser')"
   ]
  },
  {
   "cell_type": "code",
   "execution_count": null,
   "id": "be0e9ad8",
   "metadata": {},
   "outputs": [],
   "source": [
    "news_title = soup.find_all('div', class_='content_title')[0].text\n",
    "p_text = soup.find_all('div', class_='article_teaser_body')[0].text\n",
    "            \n",
    "print(news_title)\n",
    "print(p_text)"
   ]
  },
  {
   "cell_type": "markdown",
   "id": "d5c67d30",
   "metadata": {},
   "source": [
    "JPL Mars Space Images—Featured Image\n",
    "\n",
    "\n",
    "Visit the URL for the Featured Space Image site.\n",
    "\n",
    "\n",
    "Use Splinter to navigate the site and find the image URL for the current Featured Mars Image, then assign the URL string to a variable called featured_image_url.\n",
    "\n",
    "\n",
    "Be sure to find the image URL to the full-sized .jpg image.\n",
    "\n",
    "\n",
    "Be sure to save a complete URL string for this image."
   ]
  },
  {
   "cell_type": "code",
   "execution_count": null,
   "id": "a3cf0ee4",
   "metadata": {},
   "outputs": [],
   "source": [
    " # URL of page to be scraped\n",
    "url = 'https://spaceimages-mars.com/'"
   ]
  },
  {
   "cell_type": "code",
   "execution_count": null,
   "id": "784c0d73",
   "metadata": {},
   "outputs": [],
   "source": [
    "# browser open webpage\n",
    "browser.visit(url)"
   ]
  },
  {
   "cell_type": "code",
   "execution_count": null,
   "id": "413cc30c",
   "metadata": {},
   "outputs": [],
   "source": [
    "# HTML object\n",
    "html = browser.html"
   ]
  },
  {
   "cell_type": "code",
   "execution_count": null,
   "id": "ed067445",
   "metadata": {},
   "outputs": [],
   "source": [
    "# Parse HTML with Beautiful Soup\n",
    "soup = bs(html, 'html.parser')"
   ]
  },
  {
   "cell_type": "code",
   "execution_count": null,
   "id": "17f958e2",
   "metadata": {},
   "outputs": [],
   "source": [
    "#find header image tag\n",
    "images = soup.find('img', class_=\"headerimage\")\n",
    "    \n",
    "featured_image = images['src']\n",
    "featured_image_url = f'https://spaceimages-mars.com/{featured_image}'\n",
    "#print image source\n",
    "print(featured_image_url)"
   ]
  },
  {
   "cell_type": "markdown",
   "id": "b7032aab",
   "metadata": {},
   "source": [
    "Mars Facts\n",
    "\n",
    "\n",
    "Visit the Mars Facts webpage and use Pandas to scrape the table containing facts about the planet including diameter, mass, etc.\n",
    "\n",
    "\n",
    "Use Pandas to convert the data to a HTML table string."
   ]
  },
  {
   "cell_type": "code",
   "execution_count": null,
   "id": "f81fc63b",
   "metadata": {},
   "outputs": [],
   "source": [
    " # URL of page to be scraped\n",
    "url= 'https://galaxyfacts-mars.com/'"
   ]
  },
  {
   "cell_type": "code",
   "execution_count": null,
   "id": "186ccb0f",
   "metadata": {},
   "outputs": [],
   "source": [
    "browser.visit(url)"
   ]
  },
  {
   "cell_type": "code",
   "execution_count": null,
   "id": "62edffbd",
   "metadata": {},
   "outputs": [],
   "source": [
    "# Wait until webpage is loaded\n",
    "browser.is_element_present_by_css('div.list_text', wait_time=1)"
   ]
  },
  {
   "cell_type": "code",
   "execution_count": null,
   "id": "8e8f2c66",
   "metadata": {},
   "outputs": [],
   "source": [
    "# Covert to table, setting first row as column header\n",
    "tables = pd.read_html(url, header=[0])\n",
    "tables"
   ]
  },
  {
   "cell_type": "code",
   "execution_count": null,
   "id": "58442e81",
   "metadata": {},
   "outputs": [],
   "source": [
    "# Convert to data frame\n",
    "mars_df = tables[0]\n",
    "mars_df"
   ]
  },
  {
   "cell_type": "code",
   "execution_count": null,
   "id": "7365ce69",
   "metadata": {},
   "outputs": [],
   "source": [
    "# Convert to html string\n",
    "html_table = mars_df.to_html()\n",
    "html_table"
   ]
  },
  {
   "cell_type": "markdown",
   "id": "943cbc82",
   "metadata": {},
   "source": [
    "Mars Hemispheres\n",
    "\n",
    "\n",
    "Visit the astrogeology site to obtain high-resolution images for each hemisphere of Mars.\n",
    "\n",
    "\n",
    "You will need to click each of the links to the hemispheres in order to find the image URL to the full-resolution image.\n",
    "\n",
    "\n",
    "Save the image URL string for the full resolution hemisphere image and the hemisphere title containing the hemisphere name. Use a Python dictionary to store the data using the keys img_url and title.\n",
    "\n",
    "\n",
    "Append the dictionary with the image URL string and the hemisphere title to a list. This list will contain one dictionary for each hemisphere."
   ]
  },
  {
   "cell_type": "code",
   "execution_count": null,
   "id": "72ae6a3d",
   "metadata": {},
   "outputs": [],
   "source": [
    " # URL of page to be scraped\n",
    "url='https://marshemispheres.com/'"
   ]
  },
  {
   "cell_type": "code",
   "execution_count": null,
   "id": "789dbc52",
   "metadata": {},
   "outputs": [],
   "source": [
    "browser.visit(url)"
   ]
  },
  {
   "cell_type": "code",
   "execution_count": null,
   "id": "40d95138",
   "metadata": {},
   "outputs": [],
   "source": [
    "# Wait until webpage is loaded\n",
    "browser.is_element_present_by_css('div.list_text', wait_time=1)"
   ]
  },
  {
   "cell_type": "code",
   "execution_count": null,
   "id": "959ef7c4",
   "metadata": {},
   "outputs": [],
   "source": [
    "# empty dictionary \n",
    "hemisphere_image_urls= {}\n",
    "\n",
    "# index starts at 0\n",
    "x = 0\n",
    "\n",
    "# click through images and store urls in dictionary\n",
    "for x in range(4):\n",
    "\n",
    "    html = browser.html\n",
    "    soup = bs(html, 'html.parser')\n",
    "    \n",
    "    #find thumbnail and title of image\n",
    "    mars_images = soup.find_all('img', class_='thumb')[x]\n",
    "    img_title = soup.find_all('h3')[x].text\n",
    "    \n",
    "    # click on image\n",
    "    browser.links.find_by_partial_text('thumb')[x].click()\n",
    "    \n",
    "    # find source url for high res image\n",
    "    hr_image = soup.find('img', class_='wide_image')\n",
    "    \n",
    "    image_path = hr_image[\"src\"]\n",
    "    \n",
    "    # full url of image for dictionary\n",
    "    img_url = url + image_path\n",
    "\n",
    "    # Store data in a dictionary\n",
    "    hemisphere_image_urls = {\n",
    "    \"Title\": img_title,\n",
    "    \"img_url\": img_url\n",
    "    }\n",
    "    \n",
    "    # increase index by 1 to find next image\n",
    "    x += 1\n",
    " \n",
    "    #return to main page\n",
    "    browser.visit(url)\n"
   ]
  },
  {
   "cell_type": "code",
   "execution_count": null,
   "id": "1fd71c6e",
   "metadata": {},
   "outputs": [],
   "source": [
    "hemisphere_image_urls"
   ]
  },
  {
   "cell_type": "code",
   "execution_count": 78,
   "id": "20643c49",
   "metadata": {},
   "outputs": [],
   "source": [
    "browser.quit()"
   ]
  },
  {
   "cell_type": "code",
   "execution_count": null,
   "id": "b7bd3cb2",
   "metadata": {},
   "outputs": [],
   "source": []
  }
 ],
 "metadata": {
  "kernelspec": {
   "display_name": "Python [conda env:PythonData38] *",
   "language": "python",
   "name": "conda-env-PythonData38-py"
  },
  "language_info": {
   "codemirror_mode": {
    "name": "ipython",
    "version": 3
   },
   "file_extension": ".py",
   "mimetype": "text/x-python",
   "name": "python",
   "nbconvert_exporter": "python",
   "pygments_lexer": "ipython3",
   "version": "3.8.12"
  }
 },
 "nbformat": 4,
 "nbformat_minor": 5
}
